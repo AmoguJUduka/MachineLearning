{
  "nbformat": 4,
  "nbformat_minor": 0,
  "metadata": {
    "colab": {
      "provenance": [],
      "machine_shape": "hm",
      "gpuType": "T4",
      "include_colab_link": true
    },
    "kernelspec": {
      "name": "python3",
      "display_name": "Python 3"
    },
    "language_info": {
      "name": "python"
    },
    "accelerator": "GPU"
  },
  "cells": [
    {
      "cell_type": "markdown",
      "metadata": {
        "id": "view-in-github",
        "colab_type": "text"
      },
      "source": [
        "<a href=\"https://colab.research.google.com/github/AmoguJUduka/MachineLearning/blob/main/DeepLearningAssignments/BasicLSTM_Pytorch.ipynb\" target=\"_parent\"><img src=\"https://colab.research.google.com/assets/colab-badge.svg\" alt=\"Open In Colab\"/></a>"
      ]
    },
    {
      "cell_type": "markdown",
      "source": [
        "**HW4 Assignment Goals**\n",
        "1. Understand the core concepts of the Transfomrer Architecture\n",
        "2. Application to Sequence-to-Sequence Tasks\n",
        "3. Impact of Hyperparameters"
      ],
      "metadata": {
        "id": "fErAbczRttNV"
      }
    },
    {
      "cell_type": "markdown",
      "source": [
        "LSTM is a structure that can be usedin neural network. It is a type of RNN that expects the input in the form of sequences of features. It is useful for data such as time series or string of text."
      ],
      "metadata": {
        "id": "1KQZYGluvp3L"
      }
    },
    {
      "cell_type": "markdown",
      "source": [
        "**Problem 1**"
      ],
      "metadata": {
        "id": "4os_gD5TOBgE"
      }
    },
    {
      "cell_type": "code",
      "source": [
        "# Sentences\n",
        "sentence_en = \"My name is Amogu J. Uduka, and I will succeed\"\n",
        "sentence_de = \"Mein Name ist Amogu J. Uduka, und ich werde erfolgreich sein\"\n",
        "sentences = [sentence_en, sentence_de]"
      ],
      "metadata": {
        "id": "VbaBIRG5OH5v"
      },
      "execution_count": 1,
      "outputs": []
    },
    {
      "cell_type": "markdown",
      "source": [
        "Download necessary packages"
      ],
      "metadata": {
        "id": "IWUOJJ4XQFjC"
      }
    },
    {
      "cell_type": "code",
      "source": [
        "!pip install numpy==1.23.5  # Upgrade Numpy version\n",
        "import spacy.cli\n",
        "import warnings # warnings module import\n",
        "spacy.cli.download(\"en_core_web_sm\")  # English pipeline\n",
        "spacy.cli.download(\"de_core_news_sm\") # German pipeline\n",
        "warnings.filterwarnings(\"ignore\", message=\"\\[W111\\]\") # Handles warnings for better output"
      ],
      "metadata": {
        "colab": {
          "base_uri": "https://localhost:8080/"
        },
        "id": "7sEagwKmTVgB",
        "outputId": "68835456-8fcf-41fb-92bb-522dd7c23353"
      },
      "execution_count": 2,
      "outputs": [
        {
          "output_type": "stream",
          "name": "stdout",
          "text": [
            "Requirement already satisfied: numpy==1.23.5 in /usr/local/lib/python3.10/dist-packages (1.23.5)\n",
            "\u001b[38;5;2m✔ Download and installation successful\u001b[0m\n",
            "You can now load the package via spacy.load('en_core_web_sm')\n",
            "\u001b[38;5;3m⚠ Restart to reload dependencies\u001b[0m\n",
            "If you are in a Jupyter or Colab notebook, you may need to restart Python in\n",
            "order to load all the package's dependencies. You can do this by selecting the\n",
            "'Restart kernel' or 'Restart runtime' option.\n",
            "\u001b[38;5;2m✔ Download and installation successful\u001b[0m\n",
            "You can now load the package via spacy.load('de_core_news_sm')\n",
            "\u001b[38;5;3m⚠ Restart to reload dependencies\u001b[0m\n",
            "If you are in a Jupyter or Colab notebook, you may need to restart Python in\n",
            "order to load all the package's dependencies. You can do this by selecting the\n",
            "'Restart kernel' or 'Restart runtime' option.\n"
          ]
        }
      ]
    },
    {
      "cell_type": "markdown",
      "source": [
        "Tokenization of sentences"
      ],
      "metadata": {
        "id": "k5XYBGoRU2qm"
      }
    },
    {
      "cell_type": "code",
      "source": [
        "# English Sentence\n",
        "nlp_en = spacy.load(\"en_core_web_sm\")\n",
        "doc = nlp_en(sentence_en)\n",
        "tokens = [token.text for token in doc]\n",
        "print(tokens)"
      ],
      "metadata": {
        "colab": {
          "base_uri": "https://localhost:8080/"
        },
        "id": "diYnmIIJTVcq",
        "outputId": "0b5bbe31-a197-4d0b-f77f-9387219be490"
      },
      "execution_count": 3,
      "outputs": [
        {
          "output_type": "stream",
          "name": "stdout",
          "text": [
            "['My', 'name', 'is', 'Amogu', 'J.', 'Uduka', ',', 'and', 'I', 'will', 'succeed']\n"
          ]
        }
      ]
    },
    {
      "cell_type": "code",
      "source": [
        "# German Sentence\n",
        "nlp_de = spacy.load(\"de_core_news_sm\")\n",
        "doc = nlp_de(sentence_de)\n",
        "tokens = [token.text for token in doc]\n",
        "print(tokens)\n",
        "\n"
      ],
      "metadata": {
        "colab": {
          "base_uri": "https://localhost:8080/"
        },
        "id": "KkdV3_EoTVao",
        "outputId": "355aa0e5-e0fe-4924-9ee7-c50f111cb77b"
      },
      "execution_count": 4,
      "outputs": [
        {
          "output_type": "stream",
          "name": "stdout",
          "text": [
            "['Mein', 'Name', 'ist', 'Amogu', 'J.', 'Uduka', ',', 'und', 'ich', 'werde', 'erfolgreich', 'sein']\n"
          ]
        }
      ]
    },
    {
      "cell_type": "markdown",
      "source": [
        "**Problem 2 (Machine Translation)**"
      ],
      "metadata": {
        "id": "7muwETsmWtg3"
      }
    },
    {
      "cell_type": "markdown",
      "source": [
        "Import necessary libraries"
      ],
      "metadata": {
        "id": "nOgz-0kkMyCO"
      }
    }
  ]
}