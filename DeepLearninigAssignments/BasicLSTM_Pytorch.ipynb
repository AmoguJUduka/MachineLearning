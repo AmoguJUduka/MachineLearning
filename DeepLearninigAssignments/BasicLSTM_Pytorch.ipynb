{
  "nbformat": 4,
  "nbformat_minor": 0,
  "metadata": {
    "colab": {
      "provenance": [],
      "machine_shape": "hm",
      "authorship_tag": "ABX9TyMkR2Q8r4J3XRz5DkQcx0BS",
      "include_colab_link": true
    },
    "kernelspec": {
      "name": "python3",
      "display_name": "Python 3"
    },
    "language_info": {
      "name": "python"
    }
  },
  "cells": [
    {
      "cell_type": "markdown",
      "metadata": {
        "id": "view-in-github",
        "colab_type": "text"
      },
      "source": [
        "<a href=\"https://colab.research.google.com/github/AmoguJUduka/MachineLearning/blob/main/DeepLearninigAssignments/BasicLSTM_Pytorch.ipynb\" target=\"_parent\"><img src=\"https://colab.research.google.com/assets/colab-badge.svg\" alt=\"Open In Colab\"/></a>"
      ]
    },
    {
      "cell_type": "markdown",
      "source": [
        "**HW4 Assignment Goals**\n",
        "1. Understand the core concepts of the Transfomrer Architecture\n",
        "2. Application to Sequence-to-Sequence Tasks\n",
        "3. Impact of Hyperparameters"
      ],
      "metadata": {
        "id": "fErAbczRttNV"
      }
    },
    {
      "cell_type": "markdown",
      "source": [
        "LSTM is a structure that can be usedin neural network. It is a type of RNN that expects the input in the form of sequences of features. It is useful for data such as time series or string of text."
      ],
      "metadata": {
        "id": "1KQZYGluvp3L"
      }
    },
    {
      "cell_type": "markdown",
      "source": [
        "**Problem 1**"
      ],
      "metadata": {
        "id": "4os_gD5TOBgE"
      }
    },
    {
      "cell_type": "code",
      "source": [
        "# Sentences\n",
        "sentence1 = \"My name is Amogu J. Uduka, and I will succeed\"\n",
        "sentence_2 = \"Mein Name ist Amogu J. Uduka, und ich werde erfolgreich sein\"\n",
        "sentences = [sentence1, sentence_2]"
      ],
      "metadata": {
        "id": "VbaBIRG5OH5v"
      },
      "execution_count": 1,
      "outputs": []
    },
    {
      "cell_type": "markdown",
      "source": [
        "Download necessary packages"
      ],
      "metadata": {
        "id": "IWUOJJ4XQFjC"
      }
    },
    {
      "cell_type": "code",
      "source": [
        "!pip install numpy==1.23.5  # Upgrade Numpy version\n",
        "import spacy.cli\n",
        "import warnings # warnings module import\n",
        "spacy.cli.download(\"en_core_web_sm\")  # English pipeline\n",
        "spacy.cli.download(\"de_core_news_sm\") # German pipeline\n",
        "warnings.filterwarnings(\"ignore\", message=\"\\[W111\\]\") # Handles warnings for better output"
      ],
      "metadata": {
        "colab": {
          "base_uri": "https://localhost:8080/"
        },
        "id": "7sEagwKmTVgB",
        "outputId": "24a0aad6-cc34-4a3d-dc27-920447b67cfd"
      },
      "execution_count": 2,
      "outputs": [
        {
          "output_type": "stream",
          "name": "stdout",
          "text": [
            "Requirement already satisfied: numpy==1.23.5 in /usr/local/lib/python3.10/dist-packages (1.23.5)\n",
            "\u001b[38;5;2m✔ Download and installation successful\u001b[0m\n",
            "You can now load the package via spacy.load('en_core_web_sm')\n",
            "\u001b[38;5;3m⚠ Restart to reload dependencies\u001b[0m\n",
            "If you are in a Jupyter or Colab notebook, you may need to restart Python in\n",
            "order to load all the package's dependencies. You can do this by selecting the\n",
            "'Restart kernel' or 'Restart runtime' option.\n",
            "\u001b[38;5;2m✔ Download and installation successful\u001b[0m\n",
            "You can now load the package via spacy.load('de_core_news_sm')\n",
            "\u001b[38;5;3m⚠ Restart to reload dependencies\u001b[0m\n",
            "If you are in a Jupyter or Colab notebook, you may need to restart Python in\n",
            "order to load all the package's dependencies. You can do this by selecting the\n",
            "'Restart kernel' or 'Restart runtime' option.\n"
          ]
        }
      ]
    },
    {
      "cell_type": "markdown",
      "source": [
        "Tokenization of sentences"
      ],
      "metadata": {
        "id": "k5XYBGoRU2qm"
      }
    },
    {
      "cell_type": "code",
      "source": [
        "# English Sentence\n",
        "nlp1 = spacy.load(\"en_core_web_sm\")\n",
        "doc = nlp1(sentence1)\n",
        "tokens = [token.text for token in doc]\n",
        "print(tokens)"
      ],
      "metadata": {
        "colab": {
          "base_uri": "https://localhost:8080/"
        },
        "id": "diYnmIIJTVcq",
        "outputId": "5a2ff5de-6fda-420d-af00-e656610fa3a1"
      },
      "execution_count": 3,
      "outputs": [
        {
          "output_type": "stream",
          "name": "stdout",
          "text": [
            "['My', 'name', 'is', 'Amogu', 'J.', 'Uduka', ',', 'and', 'I', 'will', 'succeed']\n"
          ]
        }
      ]
    },
    {
      "cell_type": "code",
      "source": [
        "# German Sentence\n",
        "nlp2 = spacy.load(\"de_core_news_sm\")\n",
        "doc = nlp2(sentence_2)\n",
        "tokens = [token.text for token in doc]\n",
        "print(tokens)\n",
        "\n"
      ],
      "metadata": {
        "colab": {
          "base_uri": "https://localhost:8080/"
        },
        "id": "KkdV3_EoTVao",
        "outputId": "33cd4460-f4b8-4f1b-8ab3-4bedc2bc6ad8"
      },
      "execution_count": 4,
      "outputs": [
        {
          "output_type": "stream",
          "name": "stdout",
          "text": [
            "['Mein', 'Name', 'ist', 'Amogu', 'J.', 'Uduka', ',', 'und', 'ich', 'werde', 'erfolgreich', 'sein']\n"
          ]
        }
      ]
    },
    {
      "cell_type": "markdown",
      "source": [
        "**Problem 2 (Machine Translation)**"
      ],
      "metadata": {
        "id": "7muwETsmWtg3"
      }
    },
    {
      "cell_type": "markdown",
      "source": [
        "Import necessary libraries"
      ],
      "metadata": {
        "id": "nOgz-0kkMyCO"
      }
    },
    {
      "cell_type": "code",
      "source": [],
      "metadata": {
        "id": "JildnAY5pNBJ"
      },
      "execution_count": null,
      "outputs": []
    },
    {
      "cell_type": "code",
      "source": [],
      "metadata": {
        "id": "rWte4xgfpM7I"
      },
      "execution_count": null,
      "outputs": []
    }
  ]
}