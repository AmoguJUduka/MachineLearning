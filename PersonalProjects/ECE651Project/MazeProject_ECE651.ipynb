{
  "nbformat": 4,
  "nbformat_minor": 0,
  "metadata": {
    "colab": {
      "provenance": [],
      "authorship_tag": "ABX9TyPgIjX/Yb4SDe7BicEjCYHL",
      "include_colab_link": true
    },
    "kernelspec": {
      "name": "python3",
      "display_name": "Python 3"
    },
    "language_info": {
      "name": "python"
    }
  },
  "cells": [
    {
      "cell_type": "markdown",
      "metadata": {
        "id": "view-in-github",
        "colab_type": "text"
      },
      "source": [
        "<a href=\"https://colab.research.google.com/github/AmoguJUduka/MachineLearning/blob/main/PersonalProjects/ECE651Project/MazeProject_ECE651.ipynb\" target=\"_parent\"><img src=\"https://colab.research.google.com/assets/colab-badge.svg\" alt=\"Open In Colab\"/></a>"
      ]
    },
    {
      "cell_type": "markdown",
      "source": [
        "Install necessary package"
      ],
      "metadata": {
        "id": "bulvvsGjZxT5"
      }
    },
    {
      "cell_type": "code",
      "source": [
        "!pip install mazelib"
      ],
      "metadata": {
        "colab": {
          "base_uri": "https://localhost:8080/"
        },
        "id": "14s2X7IdW-M7",
        "outputId": "2b961b9e-9258-4a90-e817-85fef299777d"
      },
      "execution_count": 1,
      "outputs": [
        {
          "output_type": "stream",
          "name": "stdout",
          "text": [
            "Requirement already satisfied: mazelib in /usr/local/lib/python3.10/dist-packages (0.9.16)\n",
            "Requirement already satisfied: cython in /usr/local/lib/python3.10/dist-packages (from mazelib) (3.0.11)\n",
            "Requirement already satisfied: numpy in /usr/local/lib/python3.10/dist-packages (from mazelib) (1.26.4)\n"
          ]
        }
      ]
    },
    {
      "cell_type": "markdown",
      "source": [
        "Create 20 Samples of mazes"
      ],
      "metadata": {
        "id": "JxsvajfdY3ok"
      }
    },
    {
      "cell_type": "code",
      "execution_count": 2,
      "metadata": {
        "id": "mPfIWoU8WkjG"
      },
      "outputs": [],
      "source": [
        "# mazelib API\n",
        "from mazelib import Maze\n",
        "from mazelib.generate.Prims import Prims\n",
        "\n",
        "\n",
        "def MazeGenerator(M = 20,N=8):\n",
        "    mazes = []\n",
        "    for i in range(M):\n",
        "        m = Maze()\n",
        "        m.generator = Prims(N, N)  # creation of N x N maze\n",
        "        m.generate()\n",
        "        mazes.append(m)\n",
        "    return mazes"
      ]
    },
    {
      "cell_type": "code",
      "source": [
        "mazes = MazeGenerator()"
      ],
      "metadata": {
        "id": "Xilh_DljcMq8"
      },
      "execution_count": 3,
      "outputs": []
    },
    {
      "cell_type": "markdown",
      "source": [
        "Verify the ouptut of the maze"
      ],
      "metadata": {
        "id": "fSXVWK3uaHa-"
      }
    },
    {
      "cell_type": "code",
      "source": [
        "print(mazes[0])  # first sample"
      ],
      "metadata": {
        "colab": {
          "base_uri": "https://localhost:8080/"
        },
        "id": "JokakRZpXLIx",
        "outputId": "2cc83ca7-6b46-450f-a529-138721d7c518"
      },
      "execution_count": 4,
      "outputs": [
        {
          "output_type": "stream",
          "name": "stdout",
          "text": [
            "#################\n",
            "#     #     #   #\n",
            "### ### # # ### #\n",
            "# #   # # #   # #\n",
            "# # ####### ### #\n",
            "# # # # #       #\n",
            "# # # # ### ### #\n",
            "# # #   # # #   #\n",
            "# # ### # # ### #\n",
            "#             # #\n",
            "### # ##### ### #\n",
            "# # #   #   # # #\n",
            "# # ### ### # # #\n",
            "#     # #   #   #\n",
            "### ### ##### # #\n",
            "#     # #     # #\n",
            "#################\n"
          ]
        }
      ]
    },
    {
      "cell_type": "code",
      "source": [
        "print(mazes[-1].grid) # last sample"
      ],
      "metadata": {
        "colab": {
          "base_uri": "https://localhost:8080/"
        },
        "id": "lqsALkqHXLF0",
        "outputId": "db3af217-9090-4407-b2ce-9ffa46679829"
      },
      "execution_count": 5,
      "outputs": [
        {
          "output_type": "stream",
          "name": "stdout",
          "text": [
            "[[1 1 1 1 1 1 1 1 1 1 1 1 1 1 1 1 1]\n",
            " [1 0 1 0 0 0 0 0 0 0 1 0 1 0 1 0 1]\n",
            " [1 0 1 1 1 1 1 0 1 0 1 0 1 0 1 0 1]\n",
            " [1 0 0 0 0 0 1 0 1 0 1 0 0 0 0 0 1]\n",
            " [1 1 1 1 1 0 1 1 1 0 1 1 1 1 1 0 1]\n",
            " [1 0 1 0 0 0 0 0 1 0 1 0 1 0 0 0 1]\n",
            " [1 0 1 1 1 0 1 0 1 0 1 0 1 0 1 1 1]\n",
            " [1 0 0 0 0 0 1 0 0 0 0 0 0 0 1 0 1]\n",
            " [1 1 1 1 1 0 1 1 1 0 1 0 1 1 1 0 1]\n",
            " [1 0 0 0 0 0 1 0 1 0 1 0 0 0 1 0 1]\n",
            " [1 1 1 0 1 0 1 0 1 1 1 1 1 0 1 0 1]\n",
            " [1 0 0 0 1 0 1 0 0 0 1 0 0 0 0 0 1]\n",
            " [1 1 1 1 1 1 1 1 1 0 1 1 1 1 1 0 1]\n",
            " [1 0 0 0 0 0 1 0 1 0 1 0 1 0 1 0 1]\n",
            " [1 0 1 1 1 0 1 0 1 0 1 0 1 0 1 0 1]\n",
            " [1 0 1 0 0 0 0 0 0 0 0 0 0 0 0 0 1]\n",
            " [1 1 1 1 1 1 1 1 1 1 1 1 1 1 1 1 1]]\n"
          ]
        }
      ]
    },
    {
      "cell_type": "markdown",
      "source": [
        "The grid attribute of the maze contains a 2D array representing the maze, where\n",
        "\n",
        "\n",
        "\n",
        "*   **1** indicates walls\n",
        "*   **0** indicates open paths\n",
        "\n"
      ],
      "metadata": {
        "id": "md3JYQUHa1A_"
      }
    },
    {
      "cell_type": "code",
      "source": [],
      "metadata": {
        "id": "mhbPm1vTaVRk"
      },
      "execution_count": 5,
      "outputs": []
    },
    {
      "cell_type": "markdown",
      "source": [
        "**References**\n",
        "\n",
        "\n",
        "1.   https://github.com/john-science/mazelib/blob/main/docs/API.md\n",
        "2.   List item\n",
        "\n",
        "\n"
      ],
      "metadata": {
        "id": "r9G7KIx8cjfD"
      }
    }
  ]
}